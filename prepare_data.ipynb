{
 "cells": [
  {
   "cell_type": "code",
   "execution_count": null,
   "metadata": {},
   "outputs": [],
   "source": [
    "# Prior to running the code, make sure to download sample_<year>.zip from the Freddie Mac website and unzip them and store them all in the same folder. \n",
    "# Provide below the name for the folder where sample_<year> folder are all stored. The output csv file will be copied in this folder. \n",
    " \n",
    "folder_path = 'Set Your folder path here'"
   ]
  },
  {
   "cell_type": "code",
   "execution_count": null,
   "metadata": {},
   "outputs": [],
   "source": [
    "import pandas as pd\n",
    "import numpy as np\n",
    "import matplotlib.pyplot as plt"
   ]
  },
  {
   "cell_type": "code",
   "execution_count": null,
   "metadata": {},
   "outputs": [],
   "source": [
    "performance_data = pd.read_csv('loan_performance.csv')"
   ]
  },
  {
   "cell_type": "code",
   "execution_count": null,
   "metadata": {},
   "outputs": [],
   "source": [
    "print('Below shows the count of each status')\n",
    "print(performance_data['ZERO_BALANCE_CODE'].value_counts())\n",
    "print('---------------------------------')\n",
    "print('total number of unique loan is', len(performance_data['LOAN_SEQUENCE_NUMBER'].unique()))\n",
    "print('there is about this many missing zero balance status:',\n",
    "      len(performance_data['LOAN_SEQUENCE_NUMBER'].unique()) - sum(performance_data['ZERO_BALANCE_CODE'].value_counts()[1:]))"
   ]
  },
  {
   "cell_type": "code",
   "execution_count": null,
   "metadata": {},
   "outputs": [],
   "source": [
    "# If Zero balance code is 1 (prepaid or matured) and the date the balance became zero is before the maturity, the loan is fully prepaid.\n",
    "condition1 = (performance_data['ZERO_BALANCE_CODE'] ==  1) & (performance_data['ZERO_BALANCE_EFFECTIVE_DATE'] < performance_data['MATURITY_DATE'])\n",
    "# If zero balance code is 1 and zero balance effective date is the same day as maturity, then loan must be matured. \n",
    "condition2 = (performance_data['ZERO_BALANCE_CODE'] == 1) & (performance_data['ZERO_BALANCE_EFFECTIVE_DATE'] == performance_data['MATURITY_DATE'])\n",
    "# If zero balance code is 3, 2, 96, or 9, it is a default. \n",
    "condition3 = performance_data['ZERO_BALANCE_CODE'].isin([9, 96, 3, 2])\n",
    "# If zero balance code is none of above, we call loan is censored. \n",
    "condition4 = performance_data['ZERO_BALANCE_CODE'].isin([15,16])\n",
    "\n",
    "conditions = [condition1, condition2, condition3, condition4]\n",
    "\n",
    "values = ['Full Prepayment', 'Matured', 'Default', 'Censored']\n",
    "\n",
    "# Create the new column using np.select\n",
    "performance_data['Event_status'] = np.select(conditions, values)\n",
    "performance_data['Prepayment_status'] = np.select([(performance_data['Event_status']=='Full Prepayment')], [1])\n",
    "performance_data['Default_status'] = np.select([(performance_data['Event_status'] == 'Default')], [1])"
   ]
  },
  {
   "cell_type": "code",
   "execution_count": null,
   "metadata": {},
   "outputs": [],
   "source": [
    "print('Below shows the count of each status')\n",
    "print(performance_data['Event_status'].value_counts())\n",
    "print(performance_data['Prepayment_status'].value_counts())\n",
    "print(performance_data['Default_status'].value_counts())"
   ]
  },
  {
   "cell_type": "code",
   "execution_count": null,
   "metadata": {},
   "outputs": [],
   "source": [
    "# Create a start and stop time for survival analysis\n",
    "performance_data['Start_time'] = performance_data['LOAN_AGE']\n",
    "performance_data['Stop_time'] = performance_data['LOAN_AGE'] + 1"
   ]
  },
  {
   "cell_type": "code",
   "execution_count": null,
   "metadata": {},
   "outputs": [],
   "source": [
    "print(min(performance_data['Start_time'].unique()))\n",
    "print(max(performance_data['Start_time'].unique()))"
   ]
  },
  {
   "cell_type": "code",
   "execution_count": null,
   "metadata": {},
   "outputs": [],
   "source": [
    "# Stratify the loan term\n",
    "performance_data['ORIGINAL_LOAN_TERM'].value_counts()"
   ]
  },
  {
   "cell_type": "code",
   "execution_count": null,
   "metadata": {},
   "outputs": [],
   "source": [
    "condition1 = performance_data['ORIGINAL_LOAN_TERM'].isin(range(0,240))\n",
    "condition2 = performance_data['ORIGINAL_LOAN_TERM'].isin(range(240,301))\n",
    "condition3 = performance_data['ORIGINAL_LOAN_TERM'] > 300\n",
    "\n",
    "conditions = [condition1, condition2, condition3]\n",
    "\n",
    "values = ['0-19yr', '20-25yr', '+25yr']\n",
    "\n",
    "performance_data['TERM'] = np.select(conditions, values)"
   ]
  },
  {
   "cell_type": "code",
   "execution_count": null,
   "metadata": {},
   "outputs": [],
   "source": [
    "performance_data['TERM'].value_counts()"
   ]
  },
  {
   "cell_type": "code",
   "execution_count": null,
   "metadata": {},
   "outputs": [],
   "source": [
    "performance_data['CREDIT_SCORE'].replace(9999, np.nan, inplace=True)\n",
    "\n",
    "# Define the bins and labels for categorical scores\n",
    "bins = [300, 580, 670, 740, 800, 850]\n",
    "labels = ['Poor', 'Fair', 'Good', 'Very Good', 'Excellent']\n",
    "\n",
    "# Create a new column 'credit_score_category' with the categorical scores\n",
    "performance_data['SCORE'] = pd.cut(performance_data['CREDIT_SCORE'], bins=bins, labels=labels, right=False, include_lowest=True)"
   ]
  },
  {
   "cell_type": "code",
   "execution_count": null,
   "metadata": {},
   "outputs": [],
   "source": [
    "performance_data['SCORE'].value_counts()"
   ]
  },
  {
   "cell_type": "code",
   "execution_count": null,
   "metadata": {},
   "outputs": [],
   "source": [
    "bins = [30000, 60000, 90000, 120000, 150000, 180000, 210000, 240000, 270000, 300000, 500000, 1000000]\n",
    "labels = ['3-60K', '6-90K', '9-120K', '12-150K', '15-180K', '18-210K', '21-240K', '24-270K', '27-300K', '3-500K', '500k-1M']\n",
    "\n",
    "# Create a new column 'credit_score_category' with the categorical scores\n",
    "performance_data['SIZE'] = pd.cut(performance_data['ORIGINAL_UPB'], bins=bins, labels=labels, right=False, include_lowest=True)"
   ]
  },
  {
   "cell_type": "code",
   "execution_count": null,
   "metadata": {},
   "outputs": [],
   "source": [
    "performance_data['SIZE'].value_counts()"
   ]
  },
  {
   "cell_type": "code",
   "execution_count": null,
   "metadata": {},
   "outputs": [],
   "source": [
    "performance_data['ORIGINAL_LOAN-TO-VALUE'].replace(999, np.nan, inplace=True)\n",
    "\n",
    "bins = [20, 40, 60, 80, 100, 120, 150, 200, 500]\n",
    "labels = ['20-40%', '40-60%', '60-80%', '80-100%', '100-120%', '120-150%', '150-200%', '200-500%']\n",
    "\n",
    "performance_data['LTV'] = pd.cut(performance_data['ORIGINAL_LOAN-TO-VALUE'], bins=bins, labels=labels, right=False, include_lowest=True)"
   ]
  },
  {
   "cell_type": "code",
   "execution_count": null,
   "metadata": {},
   "outputs": [],
   "source": [
    "performance_data['LTV'].value_counts()"
   ]
  },
  {
   "cell_type": "code",
   "execution_count": null,
   "metadata": {},
   "outputs": [],
   "source": [
    "print(performance_data['AMORTIZATION_TYPE'].value_counts())\n",
    "# All of the loans are fixed rate."
   ]
  },
  {
   "cell_type": "code",
   "execution_count": null,
   "metadata": {},
   "outputs": [],
   "source": [
    "# calculate the average of current interest rate for each month in a given year. \n",
    "monthly_avg_interest_rate = performance_data.groupby(['MONTHLY_REPORTING_PERIOD','SCORE'])['CURRENT_INTEREST_RATE'].mean().reset_index()\n",
    "monthly_avg_interest_rate['CURRENT_INTEREST_RATE'].fillna(performance_data['CURRENT_INTEREST_RATE'].mean(),inplace=True)\n",
    "monthly_avg_interest_rate.rename(columns={'CURRENT_INTEREST_RATE': 'Avg_Curr_Interest_Rate'}, inplace=True)\n",
    "\n",
    "\n",
    "performance_data = pd.merge(performance_data, monthly_avg_interest_rate, on = ['MONTHLY_REPORTING_PERIOD', 'SCORE'], how = 'left')\n",
    "performance_data['ORIGINAL_INTEREST_RATE'].fillna(performance_data['ORIGINAL_INTEREST_RATE'].mean(),inplace=True)\n",
    "\n",
    "performance_data['Rate_gap'] = performance_data['Avg_Curr_Interest_Rate'] - performance_data['ORIGINAL_INTEREST_RATE']"
   ]
  },
  {
   "cell_type": "code",
   "execution_count": null,
   "metadata": {},
   "outputs": [],
   "source": [
    "print(sum(performance_data['ORIGINAL_INTEREST_RATE'].isna()))\n",
    "print(sum(performance_data['Rate_gap'].isna()))"
   ]
  },
  {
   "cell_type": "code",
   "execution_count": null,
   "metadata": {},
   "outputs": [],
   "source": [
    "print(max(performance_data['Rate_gap']))\n",
    "print(min(performance_data['Rate_gap']))"
   ]
  },
  {
   "cell_type": "code",
   "execution_count": null,
   "metadata": {},
   "outputs": [],
   "source": [
    "performance_data['ORIGINAL_LOAN-TO-VALUE'].replace(999, np.nan, inplace=True)\n",
    "\n",
    "bins = [-6, -2, 0, 1, 2, 3]\n",
    "labels = ['-6-2%', '-2-0%', '0-1%', '1-2%', '2-3%']\n",
    "\n",
    "performance_data['Rate_incv'] = pd.cut(performance_data['Rate_gap'], bins=bins, labels=labels, right=False, include_lowest=True)"
   ]
  },
  {
   "cell_type": "code",
   "execution_count": null,
   "metadata": {},
   "outputs": [],
   "source": [
    "performance_data['Rate_incv'].value_counts()"
   ]
  },
  {
   "cell_type": "code",
   "execution_count": null,
   "metadata": {},
   "outputs": [],
   "source": [
    "# Make a prepayment rate\n",
    "\n",
    "# Count of loans with positive rate gap\n",
    "performance_data['Pos_gap'] = performance_data['Rate_gap'].apply(lambda x: 1 if x > 0 else 0)\n",
    "performance_data['Neg_gap'] = performance_data['Rate_gap'].apply(lambda x: 1 if x < 0 else 0)\n",
    "\n",
    "pos = performance_data[performance_data['Pos_gap'] == 1].groupby('MONTHLY_REPORTING_PERIOD')['Pos_gap'].sum().reset_index(name='Pos_gap_count')\n",
    "neg = performance_data[performance_data['Neg_gap'] == 1].groupby('MONTHLY_REPORTING_PERIOD')['Pos_gap'].sum().reset_index(name='Neg_gap_count')\n",
    "\n",
    "# If Zero balance code is 1 (prepaid or matured) and the date the balance became zero is before the maturity, the loan is fully prepaid.\n",
    "condition1 = (performance_data['ZERO_BALANCE_CODE'] ==  1) & (performance_data['ZERO_BALANCE_EFFECTIVE_DATE'] < performance_data['MATURITY_DATE'])\n",
    "prepaynum = performance_data[condition1].groupby('MONTHLY_REPORTING_PERIOD')['Prepayment_status'].sum().reset_index(name='Prepayment_Count')\n",
    "\n",
    "# THis is a condition for default\n",
    "condition2 = performance_data['ZERO_BALANCE_CODE'].isin([9, 96, 3, 2])\n",
    "defaultnum = performance_data[condition2].groupby('MONTHLY_REPORTING_PERIOD')['Default_status'].sum().reset_index(name='Default_Count')\n",
    "\n",
    "\n",
    "# number of total active loans\n",
    "totalnum = performance_data.groupby('MONTHLY_REPORTING_PERIOD')['LOAN_SEQUENCE_NUMBER'].size().reset_index(name='Loan_count')\n",
    "\n",
    "# average rate gap, average loan size, average loan term, average credit score, average loan age, average LTV.\n",
    "averages = performance_data.groupby('MONTHLY_REPORTING_PERIOD').agg({\n",
    "    'Rate_gap': 'mean',\n",
    "    'ORIGINAL_UPB': 'mean',\n",
    "    'ORIGINAL_LOAN_TERM': 'mean',\n",
    "    'CREDIT_SCORE': 'mean',\n",
    "    'ORIGINAL_LOAN_TERM': 'mean',\n",
    "    'ORIGINAL_LOAN-TO-VALUE': 'mean',\n",
    "    'ORIGINAL_DEBT-TO-INCOME': 'mean',\n",
    "    'LOAN_AGE': 'mean'\n",
    "}).reset_index()\n",
    "\n",
    "# Merge the results\n",
    "totalnum = pd.merge(totalnum, averages, on='MONTHLY_REPORTING_PERIOD', how='outer')\n",
    "\n",
    "final_data = pd.merge(totalnum, defaultnum, on='MONTHLY_REPORTING_PERIOD', how='outer')\n",
    "\n",
    "# Merge the result with prepaynum\n",
    "final_data = pd.merge(final_data, prepaynum, on='MONTHLY_REPORTING_PERIOD', how='outer')\n",
    "\n",
    "final_data = pd.merge(final_data, pos, on='MONTHLY_REPORTING_PERIOD', how='outer')\n",
    "final_data = pd.merge(final_data, neg, on='MONTHLY_REPORTING_PERIOD', how='outer')\n",
    "\n",
    "# Fill missing values with 0\n",
    "final_data.fillna(0, inplace=True)\n",
    "\n",
    "final_data['Default_rate'] = 100*final_data['Default_Count'] / final_data['Loan_count']\n",
    "final_data['Prepay_rate'] = 100*final_data['Prepayment_Count'] / final_data['Loan_count']\n",
    "final_data['Pos_frac'] = 100*final_data['Pos_gap_count'] / final_data['Loan_count']\n",
    "final_data['Neg_frac'] = 100*final_data['Neg_gap_count'] / final_data['Loan_count']"
   ]
  },
  {
   "cell_type": "code",
   "execution_count": null,
   "metadata": {},
   "outputs": [],
   "source": [
    "performance_data.to_csv('LOAN_surv.csv', index=False)\n",
    "final_data.to_csv('pp_df_rate.csv', index = False)"
   ]
  }
 ],
 "metadata": {
  "kernelspec": {
   "display_name": "Python 3",
   "language": "python",
   "name": "python3"
  },
  "language_info": {
   "codemirror_mode": {
    "name": "ipython",
    "version": 3
   },
   "file_extension": ".py",
   "mimetype": "text/x-python",
   "name": "python",
   "nbconvert_exporter": "python",
   "pygments_lexer": "ipython3",
   "version": "3.9.6"
  }
 },
 "nbformat": 4,
 "nbformat_minor": 2
}
